{
 "cells": [
  {
   "cell_type": "markdown",
   "metadata": {},
   "source": [
    "# Experiment 1\n",
    "\n",
    "Extracting the score of the match from a single frame"
   ]
  },
  {
   "cell_type": "markdown",
   "metadata": {},
   "source": [
    "## Imports"
   ]
  },
  {
   "cell_type": "code",
   "execution_count": 1,
   "metadata": {},
   "outputs": [],
   "source": [
    "import cv2 as cv\n",
    "import numpy as np\n",
    "from skvideo.io import vread\n",
    "from util import vid_to_frames\n",
    "\n",
    "%load_ext autoreload\n",
    "%autoreload 2"
   ]
  },
  {
   "cell_type": "code",
   "execution_count": 2,
   "metadata": {},
   "outputs": [],
   "source": [
    "sample_vid = './Data/YtDownloads/Sabre/0000sabre.mp4'\n",
    "\n",
    "np.float = np.float64\n",
    "np.int = np.int_\n",
    "frames = vread(sample_vid)"
   ]
  },
  {
   "cell_type": "code",
   "execution_count": 3,
   "metadata": {},
   "outputs": [
    {
     "data": {
      "text/plain": [
       "(13052, 360, 640, 3)"
      ]
     },
     "execution_count": 3,
     "metadata": {},
     "output_type": "execute_result"
    }
   ],
   "source": [
    "frames.shape"
   ]
  },
  {
   "cell_type": "code",
   "execution_count": 4,
   "metadata": {},
   "outputs": [],
   "source": [
    "bruh = cv.cvtColor(frames[10_000], cv.COLOR_BGR2GRAY)\n",
    "\n",
    "# cv.imshow('frame', bruh)\n",
    "# cv.waitKey(0)\n",
    "# cv.destroyAllWindows()"
   ]
  },
  {
   "cell_type": "markdown",
   "metadata": {},
   "source": [
    "bounding boxes (tlx, tly, brx, bry):\n",
    "\n",
    "height: 310-330\n",
    "width: 265-290, 355-375\n",
    "\n",
    "lscore: (265, 310, 290, 330)\n",
    "rscore: (355, 310, 370, 330)"
   ]
  },
  {
   "cell_type": "code",
   "execution_count": null,
   "metadata": {},
   "outputs": [],
   "source": [
    "bruh = cv.cvtColor(frames[9_000], cv.COLOR_BGR2GRAY)\n",
    "bruh = cv.blur(bruh, (2, 2))\n",
    "\n",
    "height = 15\n",
    "width = 19\n",
    "\n",
    "top = 310\n",
    "bottom = top + height\n",
    "l1 = 267\n",
    "r1 = l1 + width\n",
    "l2 = 357\n",
    "r2 = l2 + width\n",
    "\n",
    "bruh2 = cv.rectangle(bruh, (l1, top), (r1, bottom), color=(0, 255, 0))\n",
    "bruh2 = cv.rectangle(bruh, (l2, top), (r2, bottom), color=(0, 255, 0))\n",
    "\n",
    "adj = -35\n",
    "\n",
    "bruhl = bruh[top:top+height, l1:l1+width]\n",
    "_, bruhl = cv.threshold(bruhl, 255 + adj, 255, cv.THRESH_BINARY)\n",
    "# countours = cv.findContours(bruhl, )\n",
    "# bruhl = cv.blur(bruhl, (2, 2))\n",
    "\n",
    "bruhr = bruh[top:top+height, l2:l2+width]\n",
    "_, bruhr = cv.threshold(bruhr, 255 + adj, 255, cv.THRESH_BINARY)\n",
    "# bruhr = cv.blur(bruhr, (2, 2))\n",
    "\n",
    "cv.imshow('frame', bruhl)\n",
    "cv.waitKey(0)\n",
    "\n",
    "cv.imshow('frame', bruhr)\n",
    "cv.waitKey(0)\n",
    "\n",
    "cv.destroyAllWindows()"
   ]
  }
 ],
 "metadata": {
  "kernelspec": {
   "display_name": "AI_ML",
   "language": "python",
   "name": "python3"
  },
  "language_info": {
   "codemirror_mode": {
    "name": "ipython",
    "version": 3
   },
   "file_extension": ".py",
   "mimetype": "text/x-python",
   "name": "python",
   "nbconvert_exporter": "python",
   "pygments_lexer": "ipython3",
   "version": "3.12.9"
  }
 },
 "nbformat": 4,
 "nbformat_minor": 2
}
