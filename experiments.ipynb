{
 "cells": [
  {
   "cell_type": "markdown",
   "metadata": {},
   "source": [
    "# Experiment 1\n",
    "\n",
    "Extracting the score of the match from a single frame"
   ]
  },
  {
   "cell_type": "markdown",
   "metadata": {},
   "source": [
    "## Imports"
   ]
  },
  {
   "cell_type": "code",
   "execution_count": 3,
   "metadata": {},
   "outputs": [
    {
     "name": "stdout",
     "output_type": "stream",
     "text": [
      "The autoreload extension is already loaded. To reload it, use:\n",
      "  %reload_ext autoreload\n"
     ]
    }
   ],
   "source": [
    "# %env HSA_OVERRIDE_GFX_VERSION=10.3.0\n",
    "\n",
    "import cv2\n",
    "import numpy as np\n",
    "from util import vid_to_frames\n",
    "import torch\n",
    "from PIL import Image\n",
    "\n",
    "%load_ext autoreload\n",
    "%autoreload 2"
   ]
  },
  {
   "cell_type": "code",
   "execution_count": 4,
   "metadata": {},
   "outputs": [
    {
     "name": "stdout",
     "output_type": "stream",
     "text": [
      "Using the CPU ‼️\n"
     ]
    }
   ],
   "source": [
    "if torch.cuda.is_available():\n",
    "    device = torch.device('cuda:0')\n",
    "    print('Using the GPU 😎')\n",
    "else:\n",
    "    device = torch.device('cpu')\n",
    "    print('Using the CPU ‼️')\n",
    "\n",
    "# device = torch.device('cpu')"
   ]
  },
  {
   "cell_type": "code",
   "execution_count": 5,
   "metadata": {},
   "outputs": [
    {
     "ename": "",
     "evalue": "",
     "output_type": "error",
     "traceback": [
      "\u001b[1;31mThe Kernel crashed while executing code in the current cell or a previous cell. \n",
      "\u001b[1;31mPlease review the code in the cell(s) to identify a possible cause of the failure. \n",
      "\u001b[1;31mClick <a href='https://aka.ms/vscodeJupyterKernelCrash'>here</a> for more info. \n",
      "\u001b[1;31mView Jupyter <a href='command:jupyter.viewOutput'>log</a> for further details."
     ]
    }
   ],
   "source": [
    "test_vid = './test/test_vid.mp4'\n",
    "\n",
    "PATCH_HEIGHT = 14\n",
    "PATCH_WIDTH = 19\n",
    "\n",
    "PATCH_TOP = 310\n",
    "PATCH_BOTTOM = PATCH_TOP + PATCH_HEIGHT\n",
    "L_PATCH_LEFT = 268\n",
    "L_PATCH_RIGHT = L_PATCH_LEFT + PATCH_WIDTH\n",
    "L_PATCH_MID = (L_PATCH_LEFT + L_PATCH_RIGHT) // 2 - 2\n",
    "R_PATCH_LEFT = 357\n",
    "R_PATCH_RIGHT = R_PATCH_LEFT + PATCH_WIDTH\n",
    "R_PATCH_MID = (R_PATCH_LEFT + R_PATCH_RIGHT) // 2 - 2\n",
    "ADJ = -32\n",
    "\n",
    "cap = cv2.VideoCapture(test_vid)\n",
    "cap.set(cv2.CAP_PROP_POS_FRAMES, 16_000)\n",
    "flags, arb_frame = cap.read()\n",
    "arb_frame = cv2.cvtColor(arb_frame, cv2.COLOR_BGR2GRAY)\n",
    "\n",
    "lwhole_patch = arb_frame[PATCH_TOP:PATCH_BOTTOM, L_PATCH_LEFT:L_PATCH_RIGHT]\n",
    "_, lwhole_patch = cv2.threshold(lwhole_patch, 255 + ADJ, 255, cv2.THRESH_BINARY)\n",
    "\n",
    "lhalf_patch1 = lwhole_patch.copy()\n",
    "lhalf_patch1[:, (L_PATCH_MID-L_PATCH_LEFT):] = 0\n",
    "\n",
    "lhalf_patch2 = lwhole_patch.copy()\n",
    "lhalf_patch2[:, :(L_PATCH_MID-L_PATCH_LEFT)] = 0\n",
    "_, lhalf_patch2 = cv2.threshold(lhalf_patch2, 255 + ADJ, 255, cv2.THRESH_BINARY)\n",
    "hpad = np.zeros((lhalf_patch2.shape[0], 28 - lhalf_patch2.shape[1]))\n",
    "lhalf_patch2 = np.hstack((lhalf_patch2, hpad))\n",
    "\n",
    "cv2.imshow('whole',lwhole_patch)\n",
    "cv2.imshow('half1',lhalf_patch1)\n",
    "cv2.imshow('half2',lhalf_patch2)\n",
    "cv2.waitKey()\n",
    "cv2.destroyAllWindows()\n",
    "\n",
    "if np.any(lwhole_patch[:, 0] > 100):\n",
    "    print(\"L's score is 2 digits\")\n",
    "else:\n",
    "    print(\"L's score is 1 digit\")\n",
    "\n",
    "rwhole_patch = arb_frame[PATCH_TOP:PATCH_BOTTOM, R_PATCH_LEFT:R_PATCH_RIGHT]\n",
    "_, rwhole_patch = cv2.threshold(rwhole_patch, 255 + ADJ, 255, cv2.THRESH_BINARY)\n",
    "\n",
    "rhalf_patch1 = rwhole_patch.copy()\n",
    "rhalf_patch1[:, (R_PATCH_MID-R_PATCH_LEFT):] = 0\n",
    "\n",
    "rhalf_patch2 = rwhole_patch.copy()\n",
    "rhalf_patch2[:, :(R_PATCH_MID-R_PATCH_LEFT)] = 0\n",
    "_, rhalf_patch2 = cv2.threshold(rhalf_patch2, 255 + ADJ, 255, cv2.THRESH_BINARY)\n",
    "\n",
    "cv2.imshow('whole',rwhole_patch)\n",
    "cv2.imshow('half1',rhalf_patch1)\n",
    "cv2.imshow('half2',rhalf_patch2)\n",
    "cv2.waitKey()\n",
    "cv2.destroyAllWindows()"
   ]
  },
  {
   "cell_type": "markdown",
   "metadata": {},
   "source": [
    "bounding boxes (tlx, tly, brx, bry):\n",
    "\n",
    "height: 310-330\n",
    "width: 265-290, 355-375\n",
    "\n",
    "lscore: (265, 310, 290, 330)\n",
    "rscore: (355, 310, 370, 330)"
   ]
  },
  {
   "cell_type": "code",
   "execution_count": 53,
   "metadata": {},
   "outputs": [],
   "source": [
    "from transformers import AutoImageProcessor, SiglipForImageClassification\n",
    "\n",
    "model_name = \"prithivMLmods/Mnist-Digits-SigLIP2\"\n",
    "mnist_model = SiglipForImageClassification.from_pretrained(model_name)\n",
    "input_processor = AutoImageProcessor.from_pretrained(model_name, use_fast=True)\n",
    "\n",
    "PATCH_HEIGHT = 14\n",
    "PATCH_WIDTH = 19\n",
    "\n",
    "PATCH_TOP = 310\n",
    "PATCH_BOTTOM = PATCH_TOP + PATCH_HEIGHT\n",
    "L_PATCH_LEFT = 268\n",
    "L_PATCH_RIGHT = L_PATCH_LEFT + PATCH_WIDTH\n",
    "L_PATCH_MID = (L_PATCH_LEFT + L_PATCH_RIGHT) // 2 - 2\n",
    "R_PATCH_LEFT = 358\n",
    "R_PATCH_RIGHT = R_PATCH_LEFT + PATCH_WIDTH\n",
    "R_PATCH_MID = (R_PATCH_LEFT + R_PATCH_RIGHT) // 2 - 2\n",
    "ADJ = -32\n",
    "\n",
    "def predict_score_from_frame(frame, view_patches=False):\n",
    "    blurred = frame\n",
    "    # blurred = cv2.blur(frame, (2, 2))\n",
    "\n",
    "    def vert_pad(patch):\n",
    "        vpad = np.zeros((28 - patch.shape[0], patch.shape[1]))\n",
    "        return np.vstack((patch, vpad))\n",
    "\n",
    "    def horiz_pad(patch):\n",
    "        hpad = np.zeros((patch.shape[0], 28 - patch.shape[1]))\n",
    "        return np.hstack((patch, hpad))\n",
    "\n",
    "    # the whole patch of FotL's score\n",
    "    # this will be most accurate if score is 1 digit\n",
    "    lwhole_patch = blurred[PATCH_TOP:PATCH_BOTTOM, L_PATCH_LEFT:L_PATCH_RIGHT]\n",
    "    _, lwhole_patch = cv2.threshold(lwhole_patch, 255 + ADJ, 255, cv2.THRESH_BINARY)\n",
    "    l_double = np.any(lwhole_patch[:, 0] > 100) # if any pixels on the left border are lit, it's double digits (1X where 0 <= X <= 5)\n",
    "    lwhole_patch = horiz_pad(lwhole_patch)\n",
    "    # lwhole_patch = vert_pad(lwhole_patch)\n",
    "\n",
    "    # the masked RHS half-patch of FotL's score\n",
    "    lhalf_patch2 = lwhole_patch.copy()\n",
    "    lhalf_patch2[:, :(L_PATCH_MID-L_PATCH_LEFT)] = 0\n",
    "    _, lhalf_patch2 = cv2.threshold(lhalf_patch2, 255 + ADJ, 255, cv2.THRESH_BINARY)\n",
    "    lhalf_patch2 = horiz_pad(lhalf_patch2)\n",
    "    # lhalf_patch2 = vert_pad(lhalf_patch2)\n",
    "\n",
    "    if view_patches:\n",
    "        cv2.imshow('left patch whole', lwhole_patch)\n",
    "        cv2.imshow('left patch half2', lhalf_patch2)\n",
    "        cv2.waitKey()\n",
    "        cv2.destroyAllWindows()\n",
    "\n",
    "    # the whole patch of FotR's score\n",
    "    rwhole_patch = blurred[PATCH_TOP:PATCH_BOTTOM, R_PATCH_LEFT:R_PATCH_RIGHT]\n",
    "    _, rwhole_patch = cv2.threshold(rwhole_patch, 255 + ADJ, 255, cv2.THRESH_BINARY)\n",
    "    r_double = np.any(rwhole_patch[:, 0] > 100) # if any pixels on the left border are lit, it's double digits (1X where 0 <= X <= 5)\n",
    "    rwhole_patch = horiz_pad(rwhole_patch)\n",
    "    # rwhole_patch = vert_pad(rwhole_patch)\n",
    "\n",
    "    # the masked RHS half-patch of FotR's score\n",
    "    rhalf_patch2 = rwhole_patch.copy()\n",
    "    rhalf_patch2[:, :(L_PATCH_MID-L_PATCH_LEFT)] = 0\n",
    "    _, rhalf_patch2 = cv2.threshold(rhalf_patch2, 255 + ADJ, 255, cv2.THRESH_BINARY)\n",
    "    rhalf_patch2 = horiz_pad(rhalf_patch2)\n",
    "    # rhalf_patch2 = vert_pad(rhalf_patch2)\n",
    "\n",
    "    if view_patches:\n",
    "        cv2.imshow('right patch whole', rwhole_patch)\n",
    "        cv2.imshow('left patch half2', rhalf_patch2)\n",
    "        cv2.waitKey()\n",
    "        cv2.destroyAllWindows()\n",
    "\n",
    "    lwhole_input = input_processor(images=Image.fromarray(lwhole_patch), return_tensors='pt')\n",
    "    lhalf2_input = input_processor(images=Image.fromarray(lhalf_patch2), return_tensors='pt')\n",
    "\n",
    "    rwhole_input = input_processor(images=Image.fromarray(rwhole_patch), return_tensors='pt')\n",
    "    rhalf2_input = input_processor(images=Image.fromarray(rhalf_patch2), return_tensors='pt')\n",
    "\n",
    "    with torch.no_grad():\n",
    "        lwhole_outputs = mnist_model(**lwhole_input)\n",
    "        lwhole_logits = lwhole_outputs.logits\n",
    "        lwhole_probs = torch.nn.functional.softmax(lwhole_logits, dim=1).squeeze()\n",
    "\n",
    "        lhalf2_outputs = mnist_model(**lhalf2_input)\n",
    "        lhalf2_logits = lhalf2_outputs.logits\n",
    "        lhalf2_probs = torch.nn.functional.softmax(lhalf2_logits, dim=1).squeeze()\n",
    "\n",
    "        rwhole_outputs = mnist_model(**rwhole_input)\n",
    "        rwhole_logits = rwhole_outputs.logits\n",
    "        rwhole_probs = torch.nn.functional.softmax(rwhole_logits, dim=1).squeeze()\n",
    "\n",
    "        rhalf2_outputs = mnist_model(**rhalf2_input)\n",
    "        rhalf2_logits = rhalf2_outputs.logits\n",
    "        rhalf2_probs = torch.nn.functional.softmax(rhalf2_logits, dim=1).squeeze()\n",
    "\n",
    "    def most_likely(whole_probs, half2_probs, double_digit):\n",
    "        if double_digit:\n",
    "            num = 10 + half2_probs.argmax().item()\n",
    "            prob = half2_probs.max().item()\n",
    "\n",
    "            # 17 not a possible answer, but 1's get classified as 7's too often so this is most likely\n",
    "            if num == 17:\n",
    "                num = 11\n",
    "        else:\n",
    "            num = whole_probs.argmax().item()\n",
    "            prob = whole_probs.max().item()\n",
    "\n",
    "        return num, prob\n",
    "\n",
    "    return most_likely(lwhole_probs, lhalf2_probs, l_double),\\\n",
    "            most_likely(rwhole_probs, rhalf2_probs, r_double)\n"
   ]
  },
  {
   "cell_type": "code",
   "execution_count": 55,
   "metadata": {},
   "outputs": [],
   "source": [
    "cv2.destroyAllWindows()\n",
    "\n",
    "# cap.set(cv2.CAP_PROP_POS_FRAMES, 16_500)\n",
    "# flags, arbitrary_frame = cap.read()\n",
    "# arbitrary_frame = cv2.cvtColor(arbitrary_frame, cv2.COLOR_BGR2GRAY)\n",
    "# print(predict_score_from_frame(arbitrary_frame, view_patches=True))\n",
    "\n",
    "# cv2.imshow('arbitrary frame', arbitrary_frame)\n",
    "# cv2.waitKey()\n",
    "# cv2.destroyAllWindows()\n",
    "\n",
    "for i in range(1, 84):\n",
    "    cap.set(cv2.CAP_PROP_POS_FRAMES, i * 250)\n",
    "    flags, arbitrary_frame = cap.read()\n",
    "    arbitrary_frame = cv2.cvtColor(arbitrary_frame, cv2.COLOR_BGR2GRAY)\n",
    "\n",
    "    (lscore, lconf), (rscore, rconf) = predict_score_from_frame(arbitrary_frame)\n",
    "\n",
    "    cv2.imshow(f'frame {i * 500}: {lscore} to {rscore} ({lconf*100:.2f}%, {rconf*100:.2f}%)', arbitrary_frame)\n",
    "    cv2.waitKey()\n",
    "    cv2.destroyAllWindows()"
   ]
  },
  {
   "cell_type": "markdown",
   "metadata": {},
   "source": [
    "# Verifying labeling"
   ]
  },
  {
   "cell_type": "code",
   "execution_count": 11,
   "metadata": {},
   "outputs": [
    {
     "name": "stdout",
     "output_type": "stream",
     "text": [
      "exceptional = 977, nominal = 15506, %exceptional = 5.93%, %nominal = 94.07%\n"
     ]
    }
   ],
   "source": [
    "import os\n",
    "import pandas as pd\n",
    "\n",
    "csvs = os.listdir('./Data/ScoreInfo/Sabre/')\n",
    "\n",
    "nominal = 0\n",
    "exceptional = 0\n",
    "\n",
    "for csv in csvs:\n",
    "    info = pd.read_csv('./Data/ScoreInfo/Sabre/' + csv, header=0)\n",
    "\n",
    "    prev_lscore, prev_rscore = 0, 0\n",
    "    for i, row in info.iterrows():\n",
    "        lscore, rscore = row['lscore'], row['rscore']\n",
    "        if prev_lscore > lscore or prev_rscore > rscore:\n",
    "            exceptional += 1\n",
    "        elif lscore > prev_lscore + 1 or rscore > prev_rscore + 1:\n",
    "            exceptional += 1\n",
    "        else:\n",
    "            nominal += 1\n",
    "\n",
    "        prev_lscore, prev_rscore = lscore, rscore\n",
    "\n",
    "print(f'{exceptional = }, {nominal = }, %exceptional = {exceptional / (exceptional + nominal) * 100 :.2f}%, %nominal = {nominal / (exceptional + nominal) * 100 :.2f}%')"
   ]
  },
  {
   "cell_type": "code",
   "execution_count": null,
   "metadata": {},
   "outputs": [],
   "source": [
    "import os\n",
    "import pandas as pd\n",
    "\n",
    "csvs = os.listdir('./Data/ScoreInfo/Sabre/')\n",
    "\n",
    "nominal = 0\n",
    "exceptional = 0\n",
    "\n",
    "for csv in csvs:\n",
    "    info = pd.read_csv('./Data/ScoreInfo/Sabre/' + csv, header=0)\n",
    "    # info.set_index('frame_no')\n",
    "    info = info.drop(columns=['Unnamed: 0', 'Unnamed: 0.1'], errors='ignore')\n",
    "    info['frame_no']\n",
    "\n",
    "    csv_text = info.to_csv(index=False)\n",
    "    with open('./Data/ScoreInfo/Sabre/' + csv, 'w') as f:\n",
    "        f.write(csv_text)"
   ]
  },
  {
   "cell_type": "markdown",
   "metadata": {},
   "source": [
    "# Cut clips based on labels"
   ]
  },
  {
   "cell_type": "code",
   "execution_count": null,
   "metadata": {},
   "outputs": [],
   "source": [
    "import os\n",
    "import pandas as pd\n",
    "\n",
    "info = pd.read_csv('./Data/ScoreInfo/Sabre/0000sabre.csv', header=0)\n",
    "\n",
    "for i, row in info.iterrows():\n",
    "    # skip the \"first detection\" which is really just the 0-0 score in the first frame\n",
    "    if i == 0:\n",
    "        continue\n",
    "\n",
    "    frame_no, ms, lscore, rscore, lconf, rconf, nominal = row\n",
    "\n",
    "    # skip any data marked as not nominal\n",
    "    if not nominal:\n",
    "        continue\n",
    "\n",
    "    # on \"average\" (not rigorously tested), referees change update the scoreboard ~2-3 seconds after the point is scored,\n",
    "    # so we can ignore the last second of video before a scoreboard update\n",
    "    clip_end = ms - 1000\n",
    "\n",
    "    # using clip length of 5 seconds for now (maybe variable in the future?)\n",
    "    clip_start = clip_end - 5000\n"
   ]
  }
 ],
 "metadata": {
  "kernelspec": {
   "display_name": "Python 3",
   "language": "python",
   "name": "python3"
  },
  "language_info": {
   "codemirror_mode": {
    "name": "ipython",
    "version": 3
   },
   "file_extension": ".py",
   "mimetype": "text/x-python",
   "name": "python",
   "nbconvert_exporter": "python",
   "pygments_lexer": "ipython3",
   "version": "3.12.9"
  }
 },
 "nbformat": 4,
 "nbformat_minor": 2
}
